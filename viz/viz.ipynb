{
 "cells": [
  {
   "cell_type": "code",
   "execution_count": 1,
   "metadata": {},
   "outputs": [],
   "source": [
    "%matplotlib inline"
   ]
  },
  {
   "cell_type": "code",
   "execution_count": 2,
   "metadata": {},
   "outputs": [],
   "source": [
    "import json\n",
    "from tqdm import tqdm\n",
    "\n",
    "from utils import *\n",
    "import plotly_express as px\n",
    "import plotly.graph_objects as go\n",
    "import plotly as py\n",
    "import matplotlib.pyplot as plt"
   ]
  },
  {
   "cell_type": "code",
   "execution_count": 3,
   "metadata": {},
   "outputs": [],
   "source": [
    "sample = False"
   ]
  },
  {
   "cell_type": "code",
   "execution_count": 4,
   "metadata": {},
   "outputs": [],
   "source": [
    "MAIN = pathlib.Path('/Users/palermopenano/personal/kaggle_energy')"
   ]
  },
  {
   "cell_type": "code",
   "execution_count": 5,
   "metadata": {},
   "outputs": [],
   "source": [
    "d = pd.read_csv(MAIN / 'data' / 'train.csv')\n",
    "d['timestamp'] = pd.to_datetime(d['timestamp'], infer_datetime_format=True)"
   ]
  },
  {
   "cell_type": "code",
   "execution_count": 6,
   "metadata": {},
   "outputs": [
    {
     "name": "stdout",
     "output_type": "stream",
     "text": [
      "<class 'pandas.core.frame.DataFrame'>\n",
      "RangeIndex: 20216100 entries, 0 to 20216099\n",
      "Data columns (total 4 columns):\n",
      "building_id      int64\n",
      "meter            int64\n",
      "timestamp        datetime64[ns]\n",
      "meter_reading    float64\n",
      "dtypes: datetime64[ns](1), float64(1), int64(2)\n",
      "memory usage: 616.9 MB\n"
     ]
    }
   ],
   "source": [
    "d.info()"
   ]
  },
  {
   "cell_type": "code",
   "execution_count": 7,
   "metadata": {},
   "outputs": [],
   "source": [
    "# Take only a random sample of n buildings\n",
    "if sample:\n",
    "    d, randbuilding = df_sample_random_buildings(d, 'building_id', n=10)\n",
    "    d = d[d.timestamp < '2016-02-01']\n",
    "    print(d.shape)"
   ]
  },
  {
   "cell_type": "markdown",
   "metadata": {},
   "source": [
    "# Generate data for plot\n",
    "* Transformations\n",
    "    * Take average for the day\n",
    "    * Linearly interpolate missing values between dates"
   ]
  },
  {
   "cell_type": "code",
   "execution_count": 8,
   "metadata": {},
   "outputs": [],
   "source": [
    "def get_building_w_meter(meter_id):\n",
    "    return [b for b in d.building_id.unique() if meter_id in d[d.building_id==b].meter.unique()]"
   ]
  },
  {
   "cell_type": "code",
   "execution_count": 9,
   "metadata": {},
   "outputs": [],
   "source": [
    "# Aggregate by day (otherwise, Google Charts API fails)\n",
    "dd = d.set_index('timestamp')\n",
    "dd = dd.sort_index(ascending=True)\n",
    "dd = dd.groupby(['building_id', 'meter'])['meter_reading'].resample('D').mean()\n",
    "dd = dd.reset_index(['building_id', 'meter'])\n",
    "d = dd"
   ]
  },
  {
   "cell_type": "code",
   "execution_count": 10,
   "metadata": {},
   "outputs": [
    {
     "data": {
      "text/plain": [
       "array([0, 1, 3, 2])"
      ]
     },
     "execution_count": 10,
     "metadata": {},
     "output_type": "execute_result"
    }
   ],
   "source": [
    "d.meter.unique()"
   ]
  },
  {
   "cell_type": "code",
   "execution_count": 11,
   "metadata": {},
   "outputs": [
    {
     "name": "stdout",
     "output_type": "stream",
     "text": [
      "Generating data for meter 0...\n"
     ]
    },
    {
     "name": "stderr",
     "output_type": "stream",
     "text": [
      "100%|██████████| 1413/1413 [00:13<00:00, 105.50it/s]\n"
     ]
    },
    {
     "name": "stdout",
     "output_type": "stream",
     "text": [
      "Generating data for meter 1...\n"
     ]
    },
    {
     "name": "stderr",
     "output_type": "stream",
     "text": [
      "100%|██████████| 498/498 [00:04<00:00, 109.28it/s]\n"
     ]
    },
    {
     "name": "stdout",
     "output_type": "stream",
     "text": [
      "Generating data for meter 2...\n"
     ]
    },
    {
     "name": "stderr",
     "output_type": "stream",
     "text": [
      "100%|██████████| 324/324 [00:02<00:00, 109.71it/s]\n"
     ]
    },
    {
     "name": "stdout",
     "output_type": "stream",
     "text": [
      "Generating data for meter 3...\n"
     ]
    },
    {
     "name": "stderr",
     "output_type": "stream",
     "text": [
      "100%|██████████| 145/145 [00:01<00:00, 113.44it/s]\n"
     ]
    }
   ],
   "source": [
    "# Get buildings with meter 0, 1, 2, or 3 only\n",
    "\n",
    "meters = [0, 1, 2, 3]\n",
    "\n",
    "for m in meters:\n",
    "    print(f\"Generating data for meter {m}...\")\n",
    "    m_data = []\n",
    "    b_ids = get_building_w_meter(m)\n",
    "\n",
    "    for b in tqdm(b_ids):\n",
    "        b_data = {}\n",
    "        b_data[\"b_id\"] = int(b)\n",
    "        cond = (d.building_id == b) & (d.meter == m)\n",
    "        b_data[\"data\"] = (\n",
    "            d.loc[cond, 'meter_reading'].\n",
    "            interpolate().  # linear interpolation to fill missing\n",
    "            round(3).\n",
    "            tolist()\n",
    "        )\n",
    "        m_data.append(b_data)\n",
    "\n",
    "    dict_str = json.dumps(m_data, indent=4)\n",
    "    js_data = f\"var dataM{m} = \" + dict_str\n",
    "    p = pathlib.Path('/Users/palermopenano/Desktop/jh_ts_plot/Scripts')\n",
    "    with open(p / f'dataM{m}.js', 'w') as fp:\n",
    "        fp.write(js_data)\n",
    "        \n",
    "        "
   ]
  },
  {
   "cell_type": "code",
   "execution_count": 12,
   "metadata": {},
   "outputs": [],
   "source": [
    "# d[d.building_id == 51]"
   ]
  },
  {
   "cell_type": "markdown",
   "metadata": {},
   "source": [
    "# Plotly time series\n",
    "* How to insert into HTML\n",
    "https://stackoverflow.com/questions/36262748/python-save-plotly-plot-to-local-file-and-insert-into-html\n",
    "* How to store underlying data separately and have javascript code using plotly reference that data ???\n",
    "* How to stack figures in html code???"
   ]
  },
  {
   "cell_type": "code",
   "execution_count": 13,
   "metadata": {
    "scrolled": true
   },
   "outputs": [],
   "source": [
    "# buildings = d.building_id.unique()\n",
    "\n",
    "# axis_settings = dict(\n",
    "#     showgrid=False, \n",
    "#     zeroline=False, \n",
    "#     showline=False, \n",
    "#     ticks='', \n",
    "#     showticklabels=False\n",
    "# )\n",
    "\n",
    "# layout = go.Layout(\n",
    "#     xaxis_title=\"\",\n",
    "#     yaxis_title=\"\",\n",
    "#     yaxis=axis_settings,\n",
    "#     xaxis=axis_settings,\n",
    "#     margin=dict(\n",
    "#         l=0,\n",
    "#         r=0,\n",
    "#         b=0,\n",
    "#         t=0,\n",
    "#         pad=0\n",
    "#     )\n",
    "# )\n",
    "\n",
    "# for b in tqdm(buildings[:2]):\n",
    "#     meters = d[d.building_id == b].meter.unique()\n",
    "#     print(b, meters)\n",
    "#     for m in meters:\n",
    "# #         print(b,m)\n",
    "#         cond = (d.building_id == b) & (d.meter == m)\n",
    "#         df = d[cond]\n",
    "#         if len(df) == 0:\n",
    "#             print(f\"No data for {b} {m}\")\n",
    "#             continue\n",
    "#         fig = go.Figure(\n",
    "#             data=[go.Line(x=df['timestamp'], y=df['meter_reading'])],\n",
    "#             layout=layout\n",
    "#         )\n",
    "# #         fig.show()\n",
    "# #         py.offline.plot(fig, filename='fig.html')\n",
    "\n",
    "#         # Generate\n",
    "#         aa = py.offline.plot(fig, include_plotlyjs=False, output_type='div')\n",
    "#         print(aa)\n"
   ]
  },
  {
   "cell_type": "code",
   "execution_count": null,
   "metadata": {},
   "outputs": [],
   "source": []
  },
  {
   "cell_type": "code",
   "execution_count": null,
   "metadata": {},
   "outputs": [],
   "source": []
  }
 ],
 "metadata": {
  "kernelspec": {
   "display_name": "Python 3",
   "language": "python",
   "name": "python3"
  },
  "language_info": {
   "codemirror_mode": {
    "name": "ipython",
    "version": 3
   },
   "file_extension": ".py",
   "mimetype": "text/x-python",
   "name": "python",
   "nbconvert_exporter": "python",
   "pygments_lexer": "ipython3",
   "version": "3.6.9"
  }
 },
 "nbformat": 4,
 "nbformat_minor": 2
}
